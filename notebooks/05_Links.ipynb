{
 "cells": [
  {
   "cell_type": "code",
   "execution_count": 1,
   "id": "f2e246f5-29e7-43b9-8c9e-1d6d6524e2cb",
   "metadata": {},
   "outputs": [],
   "source": [
    "import pandas as pd\n",
    "from pyspark.sql.functions import input_file_name, regexp_extract, explode, desc, size\n",
    "from pyspark.sql.types import StructType, StructField, StringType, ArrayType, StructType, LongType, IntegerType"
   ]
  },
  {
   "cell_type": "code",
   "execution_count": 2,
   "id": "a4aac443-8824-42c1-924f-a9c79c9c5d33",
   "metadata": {},
   "outputs": [],
   "source": [
    "file_path = 'telegram_2024/urls_per_message'"
   ]
  },
  {
   "cell_type": "code",
   "execution_count": 3,
   "id": "7a02389c-3250-4b3d-ae80-d5d80aaf9605",
   "metadata": {},
   "outputs": [
    {
     "name": "stderr",
     "output_type": "stream",
     "text": [
      "                                                                                \r"
     ]
    }
   ],
   "source": [
    "df = spark.read.parquet(file_path)"
   ]
  },
  {
   "cell_type": "code",
   "execution_count": 4,
   "id": "288a928b-8065-4703-bead-133e2af986c3",
   "metadata": {},
   "outputs": [
    {
     "name": "stderr",
     "output_type": "stream",
     "text": [
      "[Stage 1:>                                                          (0 + 1) / 1]\r"
     ]
    },
    {
     "name": "stdout",
     "output_type": "stream",
     "text": [
      "+--------------------+--------------------+\n",
      "|                 url|         occurrences|\n",
      "+--------------------+--------------------+\n",
      "|HTTPS://VIGILANTN...|[{7966, channel_1...|\n",
      "|Https://Freedomfo...|[{298301, channel...|\n",
      "|Https://Twitter.c...|[{233321, channel...|\n",
      "|Https://blackcz.best|[{565478, channel...|\n",
      "|Https://fusu.me/i...|[{160001, channel...|\n",
      "|  Https://ilycat.com|[{294245, channel...|\n",
      "|Https://onlinelib...|[{39328, channel_...|\n",
      "|Https://twitter.c...|[{137097, channel...|\n",
      "|Https://www.Ahega...|[{277461, channel...|\n",
      "| Https://www.Kek.com|[{302271, channel...|\n",
      "|  Https://x.com/Beat|[{305701, channel...|\n",
      "|Https://x.com/fra...|[{585690, channel...|\n",
      "|       WWW.88PRO.BET|[{251805, channel...|\n",
      "|     WWW.AMAZON.COM,|[{98311, channel_...|\n",
      "|      WWW.CARROT.COM|[{705361, channel...|\n",
      "|WWW.OBITDATA.COM/...|[{1315, channel_1...|\n",
      "|WWW.OBITDATA.COM/...|[{1313, channel_1...|\n",
      "|   WWW.TRIMPANCE.COM|[{711839, channel...|\n",
      "|       WWW.VANCE.COM|[{711230, channel...|\n",
      "|Www.KnowYourRight...|[{319063, channel...|\n",
      "+--------------------+--------------------+\n",
      "only showing top 20 rows\n",
      "\n"
     ]
    },
    {
     "name": "stderr",
     "output_type": "stream",
     "text": [
      "                                                                                \r"
     ]
    }
   ],
   "source": [
    "df.show()"
   ]
  },
  {
   "cell_type": "code",
   "execution_count": 5,
   "id": "83b035ea-bf87-456b-8a6e-b9e266d3173f",
   "metadata": {},
   "outputs": [],
   "source": [
    "df_occurrences_count = df.withColumn(\"occurrences_count\", size(\"occurrences\"))"
   ]
  },
  {
   "cell_type": "markdown",
   "id": "0beb248d-0589-4d02-95fe-2ec35dd59a82",
   "metadata": {},
   "source": [
    "## 1. Ocurrences"
   ]
  },
  {
   "cell_type": "code",
   "execution_count": 6,
   "id": "3398c539-23f9-41eb-ba4a-f728ee72c2e4",
   "metadata": {},
   "outputs": [],
   "source": [
    "def show_more_occurrences(df):\n",
    "    print(\"As 20 URLs com maior número de ocorrências:\")\n",
    "    df \\\n",
    "    .select(\"url\", \"occurrences_count\") \\\n",
    "    .orderBy(desc(\"occurrences_count\")) \\\n",
    "    .show(20, truncate=False)"
   ]
  },
  {
   "cell_type": "code",
   "execution_count": 7,
   "id": "7eb766d1-643c-4bda-bab2-54f4769b905c",
   "metadata": {},
   "outputs": [
    {
     "name": "stdout",
     "output_type": "stream",
     "text": [
      "As 20 URLs com maior número de ocorrências:\n"
     ]
    },
    {
     "name": "stderr",
     "output_type": "stream",
     "text": [
      "[Stage 2:=======================================================> (28 + 1) / 29]\r"
     ]
    },
    {
     "name": "stdout",
     "output_type": "stream",
     "text": [
      "+------------------------------------------------------------------+-----------------+\n",
      "|url                                                               |occurrences_count|\n",
      "+------------------------------------------------------------------+-----------------+\n",
      "|https://236779.com/#/register?ic=344726                           |5022816          |\n",
      "|https://trontop.club/#/register?ic=990284                         |2687340          |\n",
      "|https://www.facebook.com/share/bKvVhdfEndsKtx6c/?mibextid=A7sQZp  |2078453          |\n",
      "|https://www.facebook.com/share/g/7unKemtXNRMnKvoE/?mibextid=A7sQZp|1877365          |\n",
      "|https://www.instagram.com/referrealponzi?igsh=MWhmbDNob2M4c2dkcQ==|1817363          |\n",
      "|https://bit.ly/4cJ4t3k                                            |1781001          |\n",
      "|https://tronera.art/index.html#/register/555431                   |1595784          |\n",
      "|https://antblockchain.vip/#/reg?ic=117174                         |1472252          |\n",
      "|https://tronsvip.com/#/register?ic=838208                         |1412020          |\n",
      "|https://benz-ai.vip/#/register?ic=345965                          |1374471          |\n",
      "|https://1839mall.vip/#/register?ic=363583                         |1366767          |\n",
      "|https://h5.mysuperwinner.com/share/sw_landing.html?ic=6239982     |1303348          |\n",
      "|https://i.ytimg.com/vi/IbD0Nb-b-d8/maxresdefault.jpg              |1278343          |\n",
      "|https://gap-shopping.com/#/register?ic=391569                     |1268844          |\n",
      "|https://sc-tesla.com/#/register?ic=186130                         |1164230          |\n",
      "|https://migros-mall.com/#/register?ic=114332                      |1121398          |\n",
      "|https://quvo.cc/account/signup?c=NrR5tuAc                         |1036230          |\n",
      "|https://kepler99.com/#/register?i=821227                          |930167           |\n",
      "|https://t.                                                        |893318           |\n",
      "|https://gncmall.shop/#/register?ic=256130                         |867976           |\n",
      "+------------------------------------------------------------------+-----------------+\n",
      "only showing top 20 rows\n",
      "\n"
     ]
    },
    {
     "name": "stderr",
     "output_type": "stream",
     "text": [
      "                                                                                \r"
     ]
    }
   ],
   "source": [
    "show_more_occurrences(df_occurrences_count)"
   ]
  },
  {
   "cell_type": "code",
   "execution_count": 8,
   "id": "c8c7dd09-e2a9-4441-b6d0-15453d3b7fdf",
   "metadata": {},
   "outputs": [],
   "source": [
    "df_occurrences_count.select(\"url\",\"occurrences\",\"occurrences_count\").createOrReplaceTempView('view_links')"
   ]
  },
  {
   "cell_type": "markdown",
   "id": "2e81c1db-0d18-43b1-adfb-d5e73329f410",
   "metadata": {},
   "source": [
    "## 2. Social Media links"
   ]
  },
  {
   "cell_type": "markdown",
   "id": "aff304a6-ab70-4557-9946-eeb3f75b104e",
   "metadata": {
    "tags": []
   },
   "source": [
    "### Twitter"
   ]
  },
  {
   "cell_type": "code",
   "execution_count": 13,
   "id": "6ec4f6c6-a95d-49bc-99de-409ae4c4987d",
   "metadata": {},
   "outputs": [],
   "source": [
    "x_links = spark.sql(\"\"\"\n",
    "    SELECT *\n",
    "    FROM view_links\n",
    "    WHERE url LIKE '%.x.%' OR url LIKE '%.twitter.%'\n",
    "\"\"\")"
   ]
  },
  {
   "cell_type": "code",
   "execution_count": 14,
   "id": "84a93cdc-a56d-4978-81f7-04931aa01923",
   "metadata": {},
   "outputs": [
    {
     "name": "stdout",
     "output_type": "stream",
     "text": [
      "As 20 URLs com maior número de ocorrências:\n"
     ]
    },
    {
     "name": "stderr",
     "output_type": "stream",
     "text": [
      "[Stage 7:=======================================================> (28 + 1) / 29]\r"
     ]
    },
    {
     "name": "stdout",
     "output_type": "stream",
     "text": [
      "+---------------------------------------------+-----------------+\n",
      "|url                                          |occurrences_count|\n",
      "+---------------------------------------------+-----------------+\n",
      "|https://www.x.com/catwolfonsol               |21440            |\n",
      "|www.x.com/nuestraamericaz                    |4236             |\n",
      "|https://www.twitter.com/BasedMoonCoin        |3972             |\n",
      "|https://www.twitter.com/GoyDescontrola2      |2339             |\n",
      "|www.x.com/EnviroTrackPlus                    |1903             |\n",
      "|http://www.twitter.com/GilletteCatSol        |1681             |\n",
      "|www.twitter.com/GilletteCatSol               |1681             |\n",
      "|www.twitter.com/SquidOnEth                   |1495             |\n",
      "|https://www.x.com/stingonsol                 |1197             |\n",
      "|https://www.x.com/bowie_musk                 |1148             |\n",
      "|www.x.com/verein_wir                         |697              |\n",
      "|https://www.twitter.com/SupereumOnSol        |562              |\n",
      "|https://www.x.com/TrumpsFight26              |554              |\n",
      "|www.twitter.com/Bonk1776bnwo                 |408              |\n",
      "|www.twitter.com/clippy_coin                  |327              |\n",
      "|https://www.x.com/rocko_meme                 |292              |\n",
      "|www.twitter.com/EvinToken                    |276              |\n",
      "|www.x.com/nuestraamericaZ                    |170              |\n",
      "|https://about.x.com/en/who-we-are/our-company|158              |\n",
      "|www.twitter.com/FrontWolf2020                |129              |\n",
      "+---------------------------------------------+-----------------+\n",
      "only showing top 20 rows\n",
      "\n"
     ]
    },
    {
     "name": "stderr",
     "output_type": "stream",
     "text": [
      "                                                                                \r"
     ]
    }
   ],
   "source": [
    "show_more_occurrences(x_links)"
   ]
  },
  {
   "cell_type": "code",
   "execution_count": 11,
   "id": "cefb3679-a3b3-4ff9-b8c3-bc7404993243",
   "metadata": {},
   "outputs": [
    {
     "name": "stderr",
     "output_type": "stream",
     "text": [
      "[Stage 4:===================================================>     (26 + 3) / 29]\r"
     ]
    },
    {
     "name": "stdout",
     "output_type": "stream",
     "text": [
      "+-----------+\n",
      "|count_links|\n",
      "+-----------+\n",
      "|       4324|\n",
      "+-----------+\n",
      "\n"
     ]
    },
    {
     "name": "stderr",
     "output_type": "stream",
     "text": [
      "                                                                                \r"
     ]
    }
   ],
   "source": [
    "x_links_count = spark.sql(\"\"\"\n",
    "    SELECT COUNT(*) AS count_links\n",
    "    FROM view_links\n",
    "    WHERE url LIKE '%.x.%' OR url LIKE '%.twitter.%'\n",
    "\"\"\").show()"
   ]
  },
  {
   "cell_type": "code",
   "execution_count": 15,
   "id": "2003eb21-f2ab-407f-a315-cfe1bde6dfc7",
   "metadata": {},
   "outputs": [
    {
     "name": "stderr",
     "output_type": "stream",
     "text": [
      "[Stage 8:>                                                          (0 + 1) / 1]\r"
     ]
    },
    {
     "name": "stdout",
     "output_type": "stream",
     "text": [
      "+--------------------+--------------------+-----------------+---------------+\n",
      "|                 url|         occurrences|occurrences_count|         perfil|\n",
      "+--------------------+--------------------+-----------------+---------------+\n",
      "|Www.twitter.com/f...|[{483739, channel...|                1|      fckmensol|\n",
      "|http://www.twitte...|[{528298, channel...|                7|       newshour|\n",
      "|https://mobile.tw...|[{91615, channel_...|                4|      YahooNews|\n",
      "|https://mobile.tw...|[{418890, channel...|                8|       iol_chat|\n",
      "|https://www.twitt...|[{211592, channel...|                2|    dogagentsol|\n",
      "|https://www.twitt...|[{95554, channel_...|                1|           katy|\n",
      "|https://www.twitt...|[{393264, channel...|                1|   olympiacosfc|\n",
      "|https://www.twitt...|[{379166, channel...|                1|    pepegotrekt|\n",
      "|https://www.twitt...|[{86362, channel_...|                1|  pikachuonsol_|\n",
      "|https://www.twitt...|[{572466, channel...|                2|   utica_masjid|\n",
      "|https://www.x.com...|[{623100, channel...|                1|       DWONKSOL|\n",
      "|https://www.x.com...|[{1533193, channe...|                1|     UnicornBTC|\n",
      "|https://www.x.com...|[{933496, channel...|                1|          dlade|\n",
      "|https://www.x.com...|[{931434, channel...|                1|        himpepe|\n",
      "|https://www.x.com...|[{490719, channel...|                2|moonknightkitty|\n",
      "|https://www.x.com...|[{1538118, channe...|                1|wackywombatbash|\n",
      "|www.twitter.com/m...|[{61536, channel_...|                1|        muhalaw|\n",
      "|www.x.com/Huntand...|[{17265, channel_...|                2|HuntandgatherTV|\n",
      "|    www.x.com/foubar|[{917220, channel...|                1|         foubar|\n",
      "|www.x.com/grumpyc...|[{34, channel_209...|                4| grumpycat_sola|\n",
      "+--------------------+--------------------+-----------------+---------------+\n",
      "only showing top 20 rows\n",
      "\n"
     ]
    },
    {
     "name": "stderr",
     "output_type": "stream",
     "text": [
      "                                                                                \r"
     ]
    }
   ],
   "source": [
    "from pyspark.sql.functions import regexp_extract\n",
    "\n",
    "perfis = x_links.withColumn(\n",
    "    \"perfil\",\n",
    "    regexp_extract(\"url\", r\"\\.com/([^/?]+)\", 1)\n",
    ")\n",
    "\n",
    "perfis.show()"
   ]
  },
  {
   "cell_type": "code",
   "execution_count": 23,
   "id": "d4acbb53-f4d6-4792-aab0-92f72e2969fc",
   "metadata": {},
   "outputs": [
    {
     "name": "stderr",
     "output_type": "stream",
     "text": [
      "                                                                                \r"
     ]
    },
    {
     "name": "stdout",
     "output_type": "stream",
     "text": [
      "+---------------+-----+\n",
      "|         perfil|total|\n",
      "+---------------+-----+\n",
      "|   catwolfonsol|21440|\n",
      "|nuestraamericaz| 4241|\n",
      "|  BasedMoonCoin| 3972|\n",
      "| GilletteCatSol| 3362|\n",
      "|GoyDescontrola2| 2339|\n",
      "|EnviroTrackPlus| 1903|\n",
      "|     SquidOnEth| 1495|\n",
      "|     stingonsol| 1197|\n",
      "|     bowie_musk| 1148|\n",
      "|               |  887|\n",
      "|     verein_wir|  697|\n",
      "|  SupereumOnSol|  562|\n",
      "|  TrumpsFight26|  554|\n",
      "|   Bonk1776bnwo|  408|\n",
      "|    clippy_coin|  339|\n",
      "|     rocko_meme|  292|\n",
      "|      EvinToken|  276|\n",
      "|             en|  255|\n",
      "|nuestraamericaZ|  170|\n",
      "|  FrontWolf2020|  129|\n",
      "+---------------+-----+\n",
      "only showing top 20 rows\n",
      "\n"
     ]
    }
   ],
   "source": [
    "perfis.select(\"perfil\",\"occurrences_count\").createOrReplaceTempView(\"view_perfil\")\n",
    "perfil_activty = spark.sql(\"\"\"\n",
    "    SELECT perfil, SUM(occurrences_count) AS total\n",
    "    FROM view_perfil\n",
    "    GROUP BY perfil\n",
    "    ORDER BY total DESC\n",
    "\"\"\")\n",
    "perfil_activty.show()"
   ]
  },
  {
   "cell_type": "markdown",
   "id": "22ea509b-8d6e-4aa4-b6d7-8c81b03bc78e",
   "metadata": {},
   "source": [
    "### Instagram"
   ]
  },
  {
   "cell_type": "code",
   "execution_count": 9,
   "id": "e960da72-91af-4560-99f4-ae3fabbbc113",
   "metadata": {},
   "outputs": [],
   "source": [
    "instagram_links = spark.sql(\"\"\"\n",
    "    SELECT *\n",
    "    FROM view_links\n",
    "    WHERE url LIKE '%.instagram.%'\n",
    "\"\"\")"
   ]
  },
  {
   "cell_type": "code",
   "execution_count": 10,
   "id": "ab6940b3-9d3c-49f8-9075-0dcb5c0451be",
   "metadata": {},
   "outputs": [
    {
     "name": "stdout",
     "output_type": "stream",
     "text": [
      "As 20 URLs com maior número de ocorrências:\n"
     ]
    },
    {
     "name": "stderr",
     "output_type": "stream",
     "text": [
      "[Stage 3:=======================================================> (28 + 1) / 29]\r"
     ]
    },
    {
     "name": "stdout",
     "output_type": "stream",
     "text": [
      "+--------------------------------------------------------------------------+-----------------+\n",
      "|url                                                                       |occurrences_count|\n",
      "+--------------------------------------------------------------------------+-----------------+\n",
      "|https://www.instagram.com/referrealponzi?igsh=MWhmbDNob2M4c2dkcQ==        |1817363          |\n",
      "|https://www.instagram.com/aya4.54444?igsh=endjZDRwaWp5bjNh                |480820           |\n",
      "|https://www.instagram.com/cryptotradingsites                              |231791           |\n",
      "|https://www.instagram.com/tpusdt                                          |110988           |\n",
      "|https://www.instagram.com/ahmed199815111?igsh=YzljYTk1ODg3Zg==‌‏          |82776            |\n",
      "|https://www.instagram.com/ahmed199815111?igsh=YzljYTk1ODg3Zg              |81750            |\n",
      "|https://www.instagram.com/deloreanlabs                                    |74818            |\n",
      "|https://www.instagram.com/highprofit2024?igsh=NzB4aWZvM2tyZG91            |49484            |\n",
      "|https://www.instagram.com/guard_gems?igsh=amoxZnF6ZGVucmk%3D&utm_source=qr|45916            |\n",
      "|https://www.instagram.com/lattesolana/                                    |39237            |\n",
      "|https://www.instagram.com/usdt_advetiser?igsh=MWR1OHBjM2g4bW02dg==        |34548            |\n",
      "|https://www.instagram.com/elboss318?igsh=MW9kMjQyYmN0aGI1bg==             |32147            |\n",
      "|https://www.instagram.com/crypt0_c0?igsh=NHRoYnQ1Z2t6bmhx                 |28284            |\n",
      "|https://www.instagram.com/team_vendetta199?igsh=NHRoYnQ1Z2t6bmhx          |28235            |\n",
      "|https://www.instagram.com/ahmed199815111?igsh=YzljYTk1ODg3Zg==‌‏.         |26967            |\n",
      "|https://www.instagram.com/ahmed199815111?igsh=YzljYTk1ODg3Zg=             |26230            |\n",
      "|https://www.instagram.com/arbcapx/                                        |24786            |\n",
      "|https://www.instagram.com/richy.cto/profilecard/?igsh=MXZjdTEzdm1sYjhlcw==|18677            |\n",
      "|https://www.instagram.com/super_doge_official/                            |18630            |\n",
      "|https://www.instagram.com/theofficialdopameme                             |17604            |\n",
      "+--------------------------------------------------------------------------+-----------------+\n",
      "only showing top 20 rows\n",
      "\n"
     ]
    },
    {
     "name": "stderr",
     "output_type": "stream",
     "text": [
      "                                                                                \r"
     ]
    }
   ],
   "source": [
    "show_more_occurrences(instagram_links)"
   ]
  },
  {
   "cell_type": "code",
   "execution_count": 11,
   "id": "3f38c504-7a58-43c0-9dee-c0c5f71d51d6",
   "metadata": {},
   "outputs": [
    {
     "name": "stderr",
     "output_type": "stream",
     "text": [
      "[Stage 4:=====================================================>   (27 + 2) / 29]\r"
     ]
    },
    {
     "name": "stdout",
     "output_type": "stream",
     "text": [
      "+-----------+\n",
      "|count_links|\n",
      "+-----------+\n",
      "|     287578|\n",
      "+-----------+\n",
      "\n"
     ]
    },
    {
     "name": "stderr",
     "output_type": "stream",
     "text": [
      "                                                                                \r"
     ]
    }
   ],
   "source": [
    "instagram_links_counts = spark.sql(\"\"\"\n",
    "    SELECT COUNT(*) as count_links\n",
    "    FROM view_links\n",
    "    WHERE url LIKE '%.instagram.%'\n",
    "\"\"\").show()"
   ]
  },
  {
   "cell_type": "code",
   "execution_count": 13,
   "id": "5290f06b-7045-4333-9f89-447d3eee869e",
   "metadata": {},
   "outputs": [
    {
     "name": "stderr",
     "output_type": "stream",
     "text": [
      "[Stage 8:>                                                          (0 + 1) / 1]\r"
     ]
    },
    {
     "name": "stdout",
     "output_type": "stream",
     "text": [
      "+--------------------+--------------------+-----------------+-------------------+\n",
      "|                 url|         occurrences|occurrences_count|             perfil|\n",
      "+--------------------+--------------------+-----------------+-------------------+\n",
      "|http://www.instag...|[{140662, channel...|                1|TheAdrenalineDealer|\n",
      "|https://l.faceboo...|[{293671, channel...|                1|              l.php|\n",
      "|https://l.faceboo...|[{294090, channel...|                1|              l.php|\n",
      "|https://www.insta...|[{337260, channel...|                2|          134shirts|\n",
      "|https://www.insta...|[{2662, channel_2...|                1|          13newsnow|\n",
      "|https://www.insta...|[{22251, channel_...|                1|            716111k|\n",
      "|https://www.insta...|[{5646, channel_2...|                3| RCOFinanceofficial|\n",
      "|https://www.insta...|[{299867, channel...|                2|        __adi__0_7_|\n",
      "|https://www.insta...|[{15558, channel_...|                1|          __seul777|\n",
      "|https://www.insta...|[{2281187, channe...|             6689|        _baron.sol_|\n",
      "|https://www.insta...|[{85954, channel_...|                1|   _family_diamonds|\n",
      "|https://www.insta...|[{93142, channel_...|                1|      _home_fit_rnd|\n",
      "|https://www.insta...|[{36180, channel_...|                2|          _ingari_a|\n",
      "|https://www.insta...|[{245182, channel...|                1|        _shine_pro_|\n",
      "|https://www.insta...|[{831313, channel...|                4|          abbieququ|\n",
      "|https://www.insta...|[{554295, channel...|                1|           accounts|\n",
      "|https://www.insta...|[{29829, channel_...|                1|     alcapone_shoes|\n",
      "|https://www.insta...|[{22654, channel_...|                1|      alex.economia|\n",
      "|https://www.insta...|[{107405, channel...|                9|     alisa.matrix11|\n",
      "|https://www.insta...|[{279026, channel...|                1|     allprimedental|\n",
      "+--------------------+--------------------+-----------------+-------------------+\n",
      "only showing top 20 rows\n",
      "\n"
     ]
    },
    {
     "name": "stderr",
     "output_type": "stream",
     "text": [
      "                                                                                \r"
     ]
    }
   ],
   "source": [
    "from pyspark.sql.functions import regexp_extract\n",
    "\n",
    "perfis = instagram_links.withColumn(\n",
    "    \"perfil\",\n",
    "    regexp_extract(\"url\", r\"\\.com/([^/?]+)\", 1)\n",
    ")\n",
    "\n",
    "perfis.show()"
   ]
  },
  {
   "cell_type": "code",
   "execution_count": 13,
   "id": "15eba6ef-e35e-4b6c-a968-dd124ce8dbc5",
   "metadata": {},
   "outputs": [
    {
     "name": "stderr",
     "output_type": "stream",
     "text": [
      "[Stage 8:=======================================================> (28 + 1) / 29]\r"
     ]
    },
    {
     "name": "stdout",
     "output_type": "stream",
     "text": [
      "+-------------------+-------+\n",
      "|             perfil|  total|\n",
      "+-------------------+-------+\n",
      "|                  p|1943976|\n",
      "|     referrealponzi|1817363|\n",
      "|         aya4.54444| 485697|\n",
      "|     ahmed199815111| 254996|\n",
      "| cryptotradingsites| 231791|\n",
      "|               reel| 115406|\n",
      "|             tpusdt| 110988|\n",
      "|       deloreanlabs|  74818|\n",
      "|     highprofit2024|  49484|\n",
      "|         guard_gems|  45916|\n",
      "|        lattesolana|  39237|\n",
      "|     usdt_advetiser|  35075|\n",
      "|          elboss318|  32147|\n",
      "|          crypt0_c0|  28284|\n",
      "|   team_vendetta199|  28235|\n",
      "|            arbcapx|  24786|\n",
      "|      arsen.bravado|  19139|\n",
      "|          richy.cto|  18680|\n",
      "|super_doge_official|  18630|\n",
      "|theofficialdopameme|  17604|\n",
      "+-------------------+-------+\n",
      "only showing top 20 rows\n",
      "\n"
     ]
    },
    {
     "name": "stderr",
     "output_type": "stream",
     "text": [
      "                                                                                \r"
     ]
    }
   ],
   "source": [
    "perfis.select(\"perfil\",\"occurrences_count\").createOrReplaceTempView(\"view_perfil\")\n",
    "perfil_activty = spark.sql(\"\"\"\n",
    "    SELECT perfil, SUM(occurrences_count) AS total\n",
    "    FROM view_perfil\n",
    "    GROUP BY perfil\n",
    "    ORDER BY total DESC\n",
    "\"\"\")\n",
    "perfil_activty.show()"
   ]
  },
  {
   "cell_type": "markdown",
   "id": "10c776e1-4ba7-44f0-ac03-2441a7898714",
   "metadata": {},
   "source": [
    "### Youtube"
   ]
  },
  {
   "cell_type": "code",
   "execution_count": 24,
   "id": "59c8f737-f3d9-452c-a283-3f21d645cb03",
   "metadata": {},
   "outputs": [],
   "source": [
    "youtube_links = spark.sql(\"\"\"\n",
    "    SELECT *\n",
    "    FROM view_links\n",
    "    WHERE url LIKE '%.youtube.%'\n",
    "\"\"\")"
   ]
  },
  {
   "cell_type": "code",
   "execution_count": 25,
   "id": "cf3f400a-464e-4d08-8644-58cf90d3f0e1",
   "metadata": {},
   "outputs": [
    {
     "name": "stdout",
     "output_type": "stream",
     "text": [
      "As 20 URLs com maior número de ocorrências:\n"
     ]
    },
    {
     "name": "stderr",
     "output_type": "stream",
     "text": [
      "[Stage 16:======================================================> (28 + 1) / 29]\r"
     ]
    },
    {
     "name": "stdout",
     "output_type": "stream",
     "text": [
      "+-------------------------------------------------------------+-----------------+\n",
      "|url                                                          |occurrences_count|\n",
      "+-------------------------------------------------------------+-----------------+\n",
      "|https://www.youtube.com/channel/UCgla8DhgElOOjWnjdmKSDRA     |69356            |\n",
      "|https://www.youtube.com/watch?v=e0Ws9DGoc6I                  |11370            |\n",
      "|https://www.youtube.com/watch?v=RyQmife0bfA&t=7s             |9978             |\n",
      "|https://www.youtube.com/watch?v=lWv9Cjhgs6U                  |7169             |\n",
      "|www.youtube.com/c/Lexcentoundici                             |5546             |\n",
      "|https://www.youtube.com/watch?v=169Xaec3--w                  |4591             |\n",
      "|https://www.youtube.com/watch?v=DmnlNoD6FIk&t=38s            |4124             |\n",
      "|https://www.youtube.com/watch?v=SkjC_Uj_akI&t=21             |3801             |\n",
      "|https://www.youtube.com/watch?v=4PztzgggXAI                  |3609             |\n",
      "|https://www.youtube.com/watch?v=R0vYorccqFE                  |3492             |\n",
      "|https://www.youtube.com/watch?v=3Hl8lJJCAgU&t=1s             |3340             |\n",
      "|https://www.youtube.com/live/6LWmV1LexTg?si=ELhIhnJ7QwoM18CR |2950             |\n",
      "|https://www.youtube.com/live/WYLw-RTjnLQ?si=k-fT8u-dVpC1DAWm |2943             |\n",
      "|https://www.youtube.com/watch?v=kmU0fGJQ17Q&t=22s            |2907             |\n",
      "|https://www.youtube.com/watch?v=9v0XYA9UBlA&t=3s             |2649             |\n",
      "|https://www.youtube.com/watch?v=nkNyzc5oYx8                  |2641             |\n",
      "|https://www.youtube.com/channel/UC5l18oylJ8o7ihugk4F-3nw/join|2603             |\n",
      "|https://www.youtube.com/watch?v=Z6or7asf_qg                  |2586             |\n",
      "|https://www.youtube.com/watch?v=_MyUrwzhEl4                  |2392             |\n",
      "|https://www.youtube.com/channel/UC5l18oylJ8o7ihugk4F-3nw     |2302             |\n",
      "+-------------------------------------------------------------+-----------------+\n",
      "only showing top 20 rows\n",
      "\n"
     ]
    },
    {
     "name": "stderr",
     "output_type": "stream",
     "text": [
      "                                                                                \r"
     ]
    }
   ],
   "source": [
    "show_more_occurrences(youtube_links)"
   ]
  },
  {
   "cell_type": "code",
   "execution_count": 29,
   "id": "4d80c252-1f62-48bd-bba0-c0f51c1cc017",
   "metadata": {},
   "outputs": [
    {
     "name": "stderr",
     "output_type": "stream",
     "text": [
      "[Stage 18:======================================================> (28 + 1) / 29]\r"
     ]
    },
    {
     "name": "stdout",
     "output_type": "stream",
     "text": [
      "+-----------------------------------------------------------------+-----------------+\n",
      "|url                                                              |occurrences_count|\n",
      "+-----------------------------------------------------------------+-----------------+\n",
      "|https://www.youtube.com/channel/UCgla8DhgElOOjWnjdmKSDRA         |69356            |\n",
      "|https://www.youtube.com/channel/UC5l18oylJ8o7ihugk4F-3nw/join    |2603             |\n",
      "|https://www.youtube.com/channel/UC5l18oylJ8o7ihugk4F-3nw         |2302             |\n",
      "|https://m.youtube.com/channel/UCUqNGw9Rc0si0WSPoJQdOQg           |2256             |\n",
      "|https://www.youtube.com/channel/UCi0TjvTDys40EG2Qj9lXpnw         |2164             |\n",
      "|https://www.youtube.com/channel/UCR0yfkqti22gsf06VsjD4FQ         |1710             |\n",
      "|https://www.youtube.com/channel/UC5-FYgXJmuU36P2wIxL7doA         |1669             |\n",
      "|https://www.youtube.com/channel/UCVs56bIj6dlk-OD1LZZoqyA         |1380             |\n",
      "|https://www.youtube.com/channel/UCy3hm3yyJ_K6wqu44kZbEDA         |953              |\n",
      "|https://www.youtube.com/channel/UC6UlzrZRF9BQ7r_pbwaRGAA         |736              |\n",
      "|www.youtube.com/channel/UCbhkGOJf1qey32JMbKBpbjQ/join            |725              |\n",
      "|https://www.youtube.com/channel/UCipLkI9dIJDrpBTqeNeWdow         |372              |\n",
      "|https://m.youtube.com/channel/UClejEuJgTUawp5bzU8QwA1w           |359              |\n",
      "|https://www.youtube.com/channel/UCoaavFJPuEvfr2Pd2BMCgpg         |346              |\n",
      "|https://www.youtube.com/channel/UCZxbfRIc4v4Fw2qvXP4BNkw         |336              |\n",
      "|https://www.youtube.com/channel/UCLdP3jmBYe9lAZQbY6OSYjw/join    |277              |\n",
      "|https://www.youtube.com/channel/UCKys_9BUhrJEpSaGV-ej7bQ         |232              |\n",
      "|https://www.youtube.com/watch?v=grOsJra8u6A&ab_channel=GENIOSCLUB|226              |\n",
      "|https://www.youtube.com/channel/UCPFmdsroy5MXg37uN63ENDQ         |189              |\n",
      "|www.youtube.com/channel/UCaVp-iXRPfiSxbkhmi56IHQ/join            |189              |\n",
      "+-----------------------------------------------------------------+-----------------+\n",
      "only showing top 20 rows\n",
      "\n"
     ]
    },
    {
     "name": "stderr",
     "output_type": "stream",
     "text": [
      "                                                                                \r"
     ]
    }
   ],
   "source": [
    "youtube_links.select(\"url\",\"occurrences_count\").createOrReplaceTempView('view_yt')\n",
    "spark.sql(\"\"\"\n",
    "    SELECT *\n",
    "    FROM view_yt\n",
    "    WHERE url LIKE '%channel%'\n",
    "    ORDER BY occurrences_count DESC\n",
    "\"\"\").show(truncate = False)"
   ]
  },
  {
   "cell_type": "code",
   "execution_count": 33,
   "id": "814091c6-784d-407e-845e-8dd523d4cddd",
   "metadata": {},
   "outputs": [
    {
     "name": "stderr",
     "output_type": "stream",
     "text": [
      "[Stage 18:======================================================> (28 + 1) / 29]\r"
     ]
    },
    {
     "name": "stdout",
     "output_type": "stream",
     "text": [
      "+--------+\n",
      "|count(1)|\n",
      "+--------+\n",
      "|  564393|\n",
      "+--------+\n",
      "\n"
     ]
    },
    {
     "name": "stderr",
     "output_type": "stream",
     "text": [
      "                                                                                \r"
     ]
    }
   ],
   "source": [
    "youtube_links_count = spark.sql(\"\"\"\n",
    "    SELECT COUNT(*) as count_links\n",
    "    FROM view_links\n",
    "    WHERE url LIKE '%.youtube.%'\n",
    "\"\"\").show()"
   ]
  },
  {
   "cell_type": "markdown",
   "id": "ac73d3d9-3545-46e0-94dd-3c850df207ea",
   "metadata": {},
   "source": [
    "### Facebook"
   ]
  },
  {
   "cell_type": "code",
   "execution_count": 14,
   "id": "a0899eef-fd73-4544-8878-b067199045ae",
   "metadata": {},
   "outputs": [],
   "source": [
    "facebook_links = spark.sql(\"\"\"\n",
    "    SELECT *\n",
    "    FROM view_links\n",
    "    WHERE url LIKE '%.facebook.%'\n",
    "\"\"\")"
   ]
  },
  {
   "cell_type": "code",
   "execution_count": 15,
   "id": "c421623f-fee9-4f03-8e78-47fe8de9e1d0",
   "metadata": {},
   "outputs": [
    {
     "name": "stdout",
     "output_type": "stream",
     "text": [
      "As 20 URLs com maior número de ocorrências:\n"
     ]
    },
    {
     "name": "stderr",
     "output_type": "stream",
     "text": [
      "[Stage 11:======================================================> (28 + 1) / 29]\r"
     ]
    },
    {
     "name": "stdout",
     "output_type": "stream",
     "text": [
      "+------------------------------------------------------------------------+-----------------+\n",
      "|url                                                                     |occurrences_count|\n",
      "+------------------------------------------------------------------------+-----------------+\n",
      "|https://www.facebook.com/share/bKvVhdfEndsKtx6c/?mibextid=A7sQZp        |2078453          |\n",
      "|https://www.facebook.com/share/g/7unKemtXNRMnKvoE/?mibextid=A7sQZp      |1877365          |\n",
      "|https://www.facebook.com/groups/free4alll/?ref=share&mibextid=NSMWBT    |310686           |\n",
      "|https://www.facebook.com/groups/796913931881126/?ref=share              |235478           |\n",
      "|https://www.facebook.com/share/T2YbdadPZXnuihUD/?mibextid=A7sQZp        |123257           |\n",
      "|https://www.facebook.com/share/g/DjmYFzB1RYUjm9Md/?mibextid=K35XfP      |120639           |\n",
      "|https://www.facebook.com/groups/545361580615128                         |69356            |\n",
      "|https://www.facebook.com/share/g/sGy4WuDzzqUfLupK/                      |45704            |\n",
      "|https://www.facebook.com/groups/974188543868108/?ref=share              |29767            |\n",
      "|https://www.facebook.com/profile.php?id=100083366231200&mibextid=ZbWKwL |28098            |\n",
      "|https://www.facebook.com/AROHAROH123?mibextid=ZbWKwL                    |27823            |\n",
      "|https://www.facebook.com/share/T2YbdadPZXnuihUD/?mibextid=A7sQZp.       |27235            |\n",
      "|https://m.facebook.com/groups/834469468420892/?ref=share&mibextid=NSMWBT|25346            |\n",
      "|https://www.facebook.com/profile.php?id=61556103572729                  |24786            |\n",
      "|https://www.facebook.com/tpUSDT                                         |23531            |\n",
      "|https://www.facebook.com/groups/175545691927473/?ref=share              |23128            |\n",
      "|https://www.facebook.com/El7ob.Elawall                                  |22527            |\n",
      "|https://www.facebook.com/groups/2126345877557831/?ref=share             |22094            |\n",
      "|https://www.facebook.com/AROHAROH123?mibextid=ZbWK                      |20298            |\n",
      "|https://www.facebook.com/groups/353230304039325                         |17787            |\n",
      "+------------------------------------------------------------------------+-----------------+\n",
      "only showing top 20 rows\n",
      "\n"
     ]
    },
    {
     "name": "stderr",
     "output_type": "stream",
     "text": [
      "                                                                                \r"
     ]
    }
   ],
   "source": [
    "show_more_occurrences(facebook_links)"
   ]
  },
  {
   "cell_type": "code",
   "execution_count": 16,
   "id": "a7729590-3340-4f15-b92d-b5fe808241d1",
   "metadata": {},
   "outputs": [
    {
     "name": "stderr",
     "output_type": "stream",
     "text": [
      "[Stage 12:======================================================> (28 + 1) / 29]\r"
     ]
    },
    {
     "name": "stdout",
     "output_type": "stream",
     "text": [
      "+-----------+\n",
      "|count_links|\n",
      "+-----------+\n",
      "|     102421|\n",
      "+-----------+\n",
      "\n"
     ]
    },
    {
     "name": "stderr",
     "output_type": "stream",
     "text": [
      "                                                                                \r"
     ]
    }
   ],
   "source": [
    "facebook_links_count = spark.sql(\"\"\"\n",
    "    SELECT COUNT(*) as count_links\n",
    "    FROM view_links\n",
    "    WHERE url LIKE '%.facebook.%'\n",
    "\"\"\").show()"
   ]
  },
  {
   "cell_type": "markdown",
   "id": "702be00f-a8af-413e-bdb0-5a18ce652608",
   "metadata": {},
   "source": [
    "### Tiktok"
   ]
  },
  {
   "cell_type": "code",
   "execution_count": 28,
   "id": "f68b1962-2445-4030-a675-796a44f2035c",
   "metadata": {},
   "outputs": [],
   "source": [
    "tiktok_links = spark.sql(\"\"\"\n",
    "    SELECT *\n",
    "    FROM view_links\n",
    "    WHERE url LIKE '%.tiktok.%'\n",
    "\"\"\")"
   ]
  },
  {
   "cell_type": "code",
   "execution_count": 29,
   "id": "7833fee6-0365-483d-a0aa-306232286a9a",
   "metadata": {},
   "outputs": [
    {
     "name": "stdout",
     "output_type": "stream",
     "text": [
      "As 20 URLs com maior número de ocorrências:\n"
     ]
    },
    {
     "name": "stderr",
     "output_type": "stream",
     "text": [
      "[Stage 11:====================================================>   (27 + 2) / 29]\r"
     ]
    },
    {
     "name": "stdout",
     "output_type": "stream",
     "text": [
      "+--------------------------------------------------------+-----------------+\n",
      "|url                                                     |occurrences_count|\n",
      "+--------------------------------------------------------+-----------------+\n",
      "|https://www.tiktok.com/t/ZPRovQbbG/                     |17080            |\n",
      "|https://vm.tiktok.com/ZMMsANEGX/                        |7399             |\n",
      "|https://vm.tiktok.com/ZMMsARWnX/                        |7399             |\n",
      "|https://vm.tiktok.com/ZMMsS6XK8/                        |7399             |\n",
      "|https://shop.tiktok.com/view/product/1729513948866774547|1032             |\n",
      "|https://vt.tiktok.com/ZSNPHxyga/                        |578              |\n",
      "|https://vt.tiktok.com/ZSNPHj1cL/                        |578              |\n",
      "|https://vt.tiktok.com/ZSNPHUcY8/                        |577              |\n",
      "|https://vm.tiktok.com/ZMref4edG/                        |372              |\n",
      "|https://vt.tiktok.com/ZS29aCbpX/                        |294              |\n",
      "|https://vt.tiktok.com/ZSYnS4XPf/                        |292              |\n",
      "|https://vt.tiktok.com/ZSYnSprQk/                        |291              |\n",
      "|https://vm.tiktok.com/ZMMhDV5f8/                        |262              |\n",
      "|https://vt.tiktok.com/ZSjkGhUq7/                        |256              |\n",
      "|https://vt.tiktok.com/ZS2U3pyFE/                        |223              |\n",
      "|https://vt.tiktok.com/ZS2cP1q5U/                        |222              |\n",
      "|https://vt.tiktok.com/ZSjJnQ9JC/                        |200              |\n",
      "|https://vt.tiktok.com/ZS2CN4rTT/                        |182              |\n",
      "|https://vm.tiktok.com/ZMrdrHgvW/                        |173              |\n",
      "|https://vt.tiktok.com/ZS2AVQLN2/                        |173              |\n",
      "+--------------------------------------------------------+-----------------+\n",
      "only showing top 20 rows\n",
      "\n"
     ]
    },
    {
     "name": "stderr",
     "output_type": "stream",
     "text": [
      "                                                                                \r"
     ]
    }
   ],
   "source": [
    "show_more_occurrences(tiktok_links)"
   ]
  },
  {
   "cell_type": "code",
   "execution_count": 35,
   "id": "d78e6b5e-ebc2-4b91-99cd-3ca9108ff28b",
   "metadata": {},
   "outputs": [
    {
     "name": "stderr",
     "output_type": "stream",
     "text": [
      "[Stage 24:==================================================>     (26 + 3) / 29]\r"
     ]
    },
    {
     "name": "stdout",
     "output_type": "stream",
     "text": [
      "+-----------+\n",
      "|count_links|\n",
      "+-----------+\n",
      "|     142988|\n",
      "+-----------+\n",
      "\n"
     ]
    },
    {
     "name": "stderr",
     "output_type": "stream",
     "text": [
      "                                                                                \r"
     ]
    }
   ],
   "source": [
    "tiktok_links = spark.sql(\"\"\"\n",
    "    SELECT COUNT(*) AS count_links\n",
    "    FROM view_links\n",
    "    WHERE url LIKE '%.tiktok.%'\n",
    "\"\"\").show()"
   ]
  }
 ],
 "metadata": {
  "kernelspec": {
   "display_name": "PySpark (Kubernetes)",
   "language": "python",
   "name": "kernel"
  },
  "language_info": {
   "codemirror_mode": {
    "name": "ipython",
    "version": 3
   },
   "file_extension": ".py",
   "mimetype": "text/x-python",
   "name": "python",
   "nbconvert_exporter": "python",
   "pygments_lexer": "ipython3",
   "version": "3.9.13"
  }
 },
 "nbformat": 4,
 "nbformat_minor": 5
}
