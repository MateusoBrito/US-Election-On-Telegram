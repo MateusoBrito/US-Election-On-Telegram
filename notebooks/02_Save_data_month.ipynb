{
 "cells": [
  {
   "cell_type": "code",
   "execution_count": 1,
   "id": "6b013cc3-6915-4aa4-b6c3-c118af874707",
   "metadata": {},
   "outputs": [],
   "source": [
    "import pandas as pd\n",
    "import glob\n",
    "from tqdm import tqdm\n",
    "import numpy as np"
   ]
  },
  {
   "cell_type": "code",
   "execution_count": 2,
   "id": "b14512bf-9621-499f-9194-898ff3e45e3a",
   "metadata": {},
   "outputs": [],
   "source": [
    "def save_data(PATHS,period):\n",
    "    dfs = [] \n",
    "\n",
    "    for file in tqdm(PATHS, desc=\"Reading Files\"):\n",
    "        try:\n",
    "            df_temp = pd.read_csv(file, sep='\\t', compression='gzip', on_bad_lines='skip')\n",
    "            df_temp[\"Group\"] = file.split('/')[2]\n",
    "            dfs.append(df_temp)\n",
    "        except Exception as e:\n",
    "            print(f\"Could not read file {file}: {e}\")\n",
    "    \n",
    "    if dfs:\n",
    "        df_final = pd.concat(dfs, ignore_index=True)\n",
    "        df_final.to_csv(f\"{period}.csv\", index=False)"
   ]
  },
  {
   "cell_type": "code",
   "execution_count": 3,
   "id": "98c4b457-4cba-411b-b0ed-a1bcf57773df",
   "metadata": {},
   "outputs": [],
   "source": [
    "period = \"2024-06\"\n",
    "PATHS = glob.glob(f\"telegram_2024/extracted/*/{period}*.tsv.gz\")\n",
    "\n",
    "chunks = np.array_split(PATHS, 3)"
   ]
  },
  {
   "cell_type": "code",
   "execution_count": null,
   "id": "98ed7391-4d9a-4d19-b1aa-3895788fb488",
   "metadata": {},
   "outputs": [
    {
     "name": "stderr",
     "output_type": "stream",
     "text": [
      "Reading Files:   2%|▏         | 187/11106 [00:10<08:56, 20.36it/s]/opt/conda/lib/python3.7/site-packages/ipykernel_launcher.py:6: DtypeWarning: Columns (15) have mixed types.Specify dtype option on import or set low_memory=False.\n",
      "  \n",
      "Reading Files:   3%|▎         | 371/11106 [00:26<08:59, 19.90it/s]  /opt/conda/lib/python3.7/site-packages/ipykernel_launcher.py:6: DtypeWarning: Columns (10) have mixed types.Specify dtype option on import or set low_memory=False.\n",
      "  \n",
      "Reading Files: 100%|██████████| 11106/11106 [13:19<00:00, 13.90it/s] \n"
     ]
    }
   ],
   "source": [
    "if not PATHS:\n",
    "    print(f\"No files found for the period: {period}\")\n",
    "else:\n",
    "    for i,chunk in enumerate(chunks):\n",
    "        if i==2:\n",
    "            save_data(chunk,f\"{period}_{i}\")"
   ]
  },
  {
   "cell_type": "code",
   "execution_count": 8,
   "id": "4076591f-7b14-4448-b21b-0d1c4c6aa219",
   "metadata": {},
   "outputs": [
    {
     "name": "stdout",
     "output_type": "stream",
     "text": [
      "2024-06_0.csv : 377600397\n",
      "2024-06_1.csv : 377552420\n",
      "2024-06_2.csv : 378486148\n",
      "Total de linhas: 1133638965\n"
     ]
    }
   ],
   "source": [
    "total_line = 0\n",
    "for i in range(3):\n",
    "    with open(f\"2024-06_{i}.csv\", 'r', encoding='utf-8') as f:\n",
    "        line_count = sum(1 for line in f)\n",
    "        print(f\"2024-06_{i}.csv : {line_count}\")\n",
    "    total_line+=line_count\n",
    "\n",
    "print(f\"Total number of lines in {period}: {total_line}\")"
   ]
  }
 ],
 "metadata": {
  "kernelspec": {
   "display_name": "PySpark (Kubernetes)",
   "language": "python",
   "name": "kernel"
  },
  "language_info": {
   "codemirror_mode": {
    "name": "ipython",
    "version": 3
   },
   "file_extension": ".py",
   "mimetype": "text/x-python",
   "name": "python",
   "nbconvert_exporter": "python",
   "pygments_lexer": "ipython3",
   "version": "3.9.13"
  }
 },
 "nbformat": 4,
 "nbformat_minor": 5
}
