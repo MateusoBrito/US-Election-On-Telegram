{
 "cells": [
  {
   "cell_type": "markdown",
   "id": "f447dc51-c845-46ad-8fea-5afa8e426e3c",
   "metadata": {},
   "source": [
    "# <center>Data Exploration</center>\n",
    "---"
   ]
  },
  {
   "cell_type": "markdown",
   "id": "173f01d5-6b53-4fd8-b8ff-e08bfb1b2da9",
   "metadata": {},
   "source": [
    "## Reading Data"
   ]
  },
  {
   "cell_type": "code",
   "execution_count": 1,
   "id": "532815ec-1aca-42c6-abb6-a0edd7fc957b",
   "metadata": {},
   "outputs": [],
   "source": [
    "import os\n",
    "import glob\n",
    "from tqdm import tqdm"
   ]
  },
  {
   "cell_type": "code",
   "execution_count": 2,
   "id": "dd890d8a-77a3-43a2-8516-2a9e787936a9",
   "metadata": {},
   "outputs": [],
   "source": [
    "file_paths = 'telegram_2024/extracted/*/2024-*.tsv.gz'"
   ]
  },
  {
   "cell_type": "code",
   "execution_count": 3,
   "id": "3de9316e-5ae7-43de-bf3f-c7f616bb04ca",
   "metadata": {},
   "outputs": [
    {
     "name": "stdout",
     "output_type": "stream",
     "text": [
      "Oi\n",
      "Schema\n"
     ]
    },
    {
     "name": "stderr",
     "output_type": "stream",
     "text": [
      "                                                                                \r"
     ]
    },
    {
     "name": "stdout",
     "output_type": "stream",
     "text": [
      "25/08/22 10:20:27 WARN SharedInMemoryCache: Evicting cached table partition metadata from memory due to size constraints (spark.sql.hive.filesourcePartitionFileCacheSize = 262144000 bytes). This may impact query planning performance.\n",
      "Load\n"
     ]
    }
   ],
   "source": [
    "from pyspark.sql.functions import col, from_unixtime, to_date, count, input_file_name, regexp_extract, collect_list, concat_ws\n",
    "from pyspark.sql.types import StructType, StructField, IntegerType, StringType,LongType,BooleanType\n",
    "\n",
    "print(\"Oi\")\n",
    "\n",
    "schema = StructType([\n",
    "    StructField(\"id\", IntegerType(), False),    \n",
    "    StructField(\"user_id\", IntegerType(), True),\n",
    "    StructField(\"text\", StringType(), True),\n",
    "    StructField(\"timestamp\", LongType(), True),                  \n",
    "    StructField(\"bot_flag\", BooleanType(), True),                \n",
    "    StructField(\"via_bot_id\", BooleanType(), True),             \n",
    "    StructField(\"via_business_bot_id\", BooleanType(), True),    \n",
    "    StructField(\"reply_to_msg_id\", IntegerType(), True),         \n",
    "    StructField(\"fwd_flag\", BooleanType(), True),               \n",
    "    StructField(\"fwd_from_id\", IntegerType(), True),             \n",
    "    StructField(\"media_type\", StringType(), True),               \n",
    "    StructField(\"views\", IntegerType(), True),                   \n",
    "    StructField(\"forwards\", IntegerType(), True),                \n",
    "    StructField(\"replies\", IntegerType(), True),                 \n",
    "    StructField(\"reactions\", IntegerType(), True),       \n",
    "    StructField(\"reaction_json\", StringType(), True),   \n",
    "    ])\n",
    "\n",
    "print(\"Schema\")\n",
    "\n",
    "# Load all files into a single DataFrame, adding a column for the file path\n",
    "df = (spark.read.option(\"header\", True)  # Read with header\n",
    "      .option(\"delimiter\", \"\\t\")         # Set tab delimiter\n",
    "      .option(\"quote\", '\"')              # Set quote character\n",
    "      .option(\"multiline\", True)         # Allow multiline fields\n",
    "      .option(\"escape\", '\"')             # Disable escape\n",
    "      .schema(schema)\n",
    "      .csv(file_paths)                  # Read CSV files\n",
    "      .withColumn(\"file_path\", input_file_name()))  # Add file path column\n",
    "\n",
    "print(\"Load\")\n",
    "\n",
    "# Extract the folder from the path\n",
    "df = df.withColumn(\"group_name\", regexp_extract(col(\"file_path\"), r\"/extracted/([^/]+)/\", 1))"
   ]
  },
  {
   "cell_type": "code",
   "execution_count": 4,
   "id": "c3ec0ac2-6eb3-49f1-9092-0153fc7ca36e",
   "metadata": {},
   "outputs": [],
   "source": [
    "df = df.na.drop(subset=[\"id\", \"text\", \"timestamp\"])"
   ]
  },
  {
   "cell_type": "code",
   "execution_count": 5,
   "id": "40c188dd-3780-44eb-931a-79420ebf6d58",
   "metadata": {},
   "outputs": [
    {
     "data": {
      "text/plain": [
       "[('id', 'int'),\n",
       " ('user_id', 'int'),\n",
       " ('text', 'string'),\n",
       " ('timestamp', 'bigint'),\n",
       " ('bot_flag', 'boolean'),\n",
       " ('via_bot_id', 'boolean'),\n",
       " ('via_business_bot_id', 'boolean'),\n",
       " ('reply_to_msg_id', 'int'),\n",
       " ('fwd_flag', 'boolean'),\n",
       " ('fwd_from_id', 'int'),\n",
       " ('media_type', 'string'),\n",
       " ('views', 'int'),\n",
       " ('forwards', 'int'),\n",
       " ('replies', 'int'),\n",
       " ('reactions', 'int'),\n",
       " ('reaction_json', 'string'),\n",
       " ('file_path', 'string'),\n",
       " ('group_name', 'string')]"
      ]
     },
     "execution_count": 5,
     "metadata": {},
     "output_type": "execute_result"
    }
   ],
   "source": [
    "df.dtypes"
   ]
  },
  {
   "cell_type": "markdown",
   "id": "1b6604cb-099d-47ad-b9d8-d27b457d8a92",
   "metadata": {
    "tags": []
   },
   "source": [
    "## 1. Groups Analysis"
   ]
  },
  {
   "cell_type": "code",
   "execution_count": 11,
   "id": "5a5019bb-acf5-435f-b75a-545e71cfbaee",
   "metadata": {},
   "outputs": [
    {
     "name": "stderr",
     "output_type": "stream",
     "text": [
      "[Stage 9:>                                                          (0 + 1) / 1]\r"
     ]
    },
    {
     "name": "stdout",
     "output_type": "stream",
     "text": [
      "Average text size in chats: 229.27393617021278\n"
     ]
    },
    {
     "name": "stderr",
     "output_type": "stream",
     "text": [
      "                                                                                \r"
     ]
    }
   ],
   "source": [
    "df.select(\"user_id\",\"id\",\"text\",\"group_name\").createOrReplaceTempView('view_users')\n",
    "mean_text_df = spark.sql(\"SELECT avg(LENGTH(text)) AS mean_text_length FROM view_users WHERE group_name LIKE '%chat%'\")\n",
    "mean_text = mean_text_df.first()[\"mean_text_length\"]\n",
    "print(f\"Average text size in chats: {mean_text}\")"
   ]
  },
  {
   "cell_type": "code",
   "execution_count": 13,
   "id": "67a986a5-42cd-4581-9199-b9e4d46626c4",
   "metadata": {},
   "outputs": [
    {
     "name": "stderr",
     "output_type": "stream",
     "text": [
      "[Stage 15:>                                                         (0 + 1) / 1]\r"
     ]
    },
    {
     "name": "stdout",
     "output_type": "stream",
     "text": [
      "Average text size in channels: 364.0619007175237\n"
     ]
    },
    {
     "name": "stderr",
     "output_type": "stream",
     "text": [
      "                                                                                \r"
     ]
    }
   ],
   "source": [
    "df.select(\"user_id\",\"id\",\"text\",\"group_name\").createOrReplaceTempView('view_users')\n",
    "mean_text_df = spark.sql(\"SELECT avg(LENGTH(text)) AS mean_text_length FROM view_users WHERE group_name LIKE '%channel%'\")\n",
    "mean_text = mean_text_df.first()[\"mean_text_length\"]\n",
    "print(f\"Average text size in channels: {mean_text}\")"
   ]
  },
  {
   "cell_type": "code",
   "execution_count": 14,
   "id": "e0d7d294-1ac2-4519-b753-e08a139ac2be",
   "metadata": {},
   "outputs": [
    {
     "name": "stderr",
     "output_type": "stream",
     "text": [
      "[Stage 18:>                                                         (0 + 1) / 1]\r"
     ]
    },
    {
     "name": "stdout",
     "output_type": "stream",
     "text": [
      "average number of words in  chats text: 26.54255319148936\n"
     ]
    },
    {
     "name": "stderr",
     "output_type": "stream",
     "text": [
      "                                                                                \r"
     ]
    }
   ],
   "source": [
    "df.select(\"user_id\",\"id\",\"text\",\"group_name\").createOrReplaceTempView('view_users')\n",
    "mean_text_df = spark.sql(\"SELECT AVG(SIZE(SPLIT(text, ' '))) AS mean_text_length FROM view_users WHERE group_name LIKE '%chat%'\")\n",
    "mean_text = mean_text_df.first()[\"mean_text_length\"]\n",
    "print(f\"average number of words in chats text: {mean_text}\")"
   ]
  },
  {
   "cell_type": "code",
   "execution_count": 15,
   "id": "48c0ee94-ea7a-445f-af67-b7bf89867f54",
   "metadata": {},
   "outputs": [
    {
     "name": "stderr",
     "output_type": "stream",
     "text": [
      "[Stage 21:>                                                         (0 + 1) / 1]\r"
     ]
    },
    {
     "name": "stdout",
     "output_type": "stream",
     "text": [
      "average number of words in channels text: 45.75567497303782\n"
     ]
    },
    {
     "name": "stderr",
     "output_type": "stream",
     "text": [
      "                                                                                \r"
     ]
    }
   ],
   "source": [
    "df.select(\"user_id\",\"id\",\"text\",\"group_name\").createOrReplaceTempView('view_users')\n",
    "mean_text_df = spark.sql(\"SELECT AVG(SIZE(SPLIT(text, ' '))) AS mean_text_length FROM view_users WHERE group_name LIKE '%channel%'\")\n",
    "mean_text = mean_text_df.first()[\"mean_text_length\"]\n",
    "print(f\"average number of words in channels text: {mean_text}\")"
   ]
  },
  {
   "cell_type": "code",
   "execution_count": 21,
   "id": "9db2ca5c-0a5c-4578-a1c5-f8139c5045be",
   "metadata": {},
   "outputs": [
    {
     "name": "stdout",
     "output_type": "stream",
     "text": [
      "Most active chats:\n"
     ]
    },
    {
     "name": "stderr",
     "output_type": "stream",
     "text": [
      "[Stage 27:>                                                         (0 + 1) / 1]\r"
     ]
    },
    {
     "name": "stdout",
     "output_type": "stream",
     "text": [
      "+---------------+-----+\n",
      "|     group_name|count|\n",
      "+---------------+-----+\n",
      "|chat_4162612396|  137|\n",
      "| chat_940424150|   72|\n",
      "|chat_4089520470|   57|\n",
      "|chat_4203053576|   53|\n",
      "|chat_4245063824|   34|\n",
      "|chat_4196654950|   11|\n",
      "|chat_4135900175|    3|\n",
      "|chat_4212459000|    3|\n",
      "|chat_4203915870|    2|\n",
      "|chat_4252052923|    2|\n",
      "|chat_4225274879|    2|\n",
      "+---------------+-----+\n",
      "\n"
     ]
    },
    {
     "name": "stderr",
     "output_type": "stream",
     "text": [
      "                                                                                \r"
     ]
    }
   ],
   "source": [
    "df_group_ac = (df.filter(df.group_name.contains(\"chat\")).groupBy(\"group_name\").count())\n",
    "\n",
    "print(\"Most active chats:\")\n",
    "df_group_ac.orderBy(\"count\",ascending=False).show()"
   ]
  },
  {
   "cell_type": "code",
   "execution_count": 23,
   "id": "35e7951b-58a4-4630-b7dc-5d8ade01c6e4",
   "metadata": {},
   "outputs": [
    {
     "name": "stdout",
     "output_type": "stream",
     "text": [
      "Most active channels:\n"
     ]
    },
    {
     "name": "stderr",
     "output_type": "stream",
     "text": [
      "[Stage 37:==============================>                        (15 + 12) / 27]\r"
     ]
    },
    {
     "name": "stdout",
     "output_type": "stream",
     "text": [
      "+------------------+-------+\n",
      "|        group_name|  count|\n",
      "+------------------+-------+\n",
      "|channel_2000420557|2123738|\n",
      "|channel_1980676178|1997841|\n",
      "|channel_1797530467|1814098|\n",
      "|channel_2036444332|1758924|\n",
      "|channel_1371589778|1714636|\n",
      "|channel_1567712182|1699462|\n",
      "|channel_1746291710|1634378|\n",
      "|channel_1952461446|1629629|\n",
      "|channel_1529099498|1545463|\n",
      "|channel_2126136797|1524753|\n",
      "|channel_1629500046|1476594|\n",
      "|channel_1831067702|1464576|\n",
      "|channel_1391678616|1460102|\n",
      "|channel_1790937453|1398498|\n",
      "|channel_2124392949|1362132|\n",
      "|channel_1815062639|1327522|\n",
      "|channel_2046555407|1294497|\n",
      "|channel_2068810045|1278377|\n",
      "|channel_1652712042|1270078|\n",
      "|channel_1240453727|1220734|\n",
      "+------------------+-------+\n",
      "only showing top 20 rows\n",
      "\n"
     ]
    },
    {
     "name": "stderr",
     "output_type": "stream",
     "text": [
      "                                                                                \r"
     ]
    }
   ],
   "source": [
    "df_group_ac = (df.filter(df.group_name.contains(\"channel\")).groupBy(\"group_name\").count())\n",
    "\n",
    "print(\"Most active channels:\")\n",
    "df_group_ac.orderBy(\"count\",ascending=False).show()"
   ]
  },
  {
   "cell_type": "code",
   "execution_count": 16,
   "id": "741dcff1-0ceb-4b8e-8307-3c55f4f5fa75",
   "metadata": {},
   "outputs": [
    {
     "name": "stderr",
     "output_type": "stream",
     "text": [
      "                                                                                \r"
     ]
    },
    {
     "data": {
      "text/plain": [
       "874034881"
      ]
     },
     "execution_count": 16,
     "metadata": {},
     "output_type": "execute_result"
    }
   ],
   "source": [
    "df.count()"
   ]
  },
  {
   "cell_type": "markdown",
   "id": "620b867f-6ce7-402a-87f7-50d21b61a847",
   "metadata": {
    "tags": []
   },
   "source": [
    "## 2. Users Analysis"
   ]
  },
  {
   "cell_type": "code",
   "execution_count": 6,
   "id": "bd548a8d-968e-4fbb-9894-de798d507649",
   "metadata": {},
   "outputs": [
    {
     "name": "stderr",
     "output_type": "stream",
     "text": [
      "[Stage 3:=======================================================>(99 + 1) / 100]\r"
     ]
    },
    {
     "name": "stdout",
     "output_type": "stream",
     "text": [
      "Total users:  3382309\n"
     ]
    },
    {
     "name": "stderr",
     "output_type": "stream",
     "text": [
      "                                                                                \r"
     ]
    }
   ],
   "source": [
    "total_users = df.select(\"user_id\").distinct().count()\n",
    "print(\"Total users: \",total_users)"
   ]
  },
  {
   "cell_type": "code",
   "execution_count": 4,
   "id": "1544d4e6-9be0-4f39-a233-3b0b8b70eb74",
   "metadata": {},
   "outputs": [
    {
     "name": "stdout",
     "output_type": "stream",
     "text": [
      "Most active users:\n"
     ]
    },
    {
     "name": "stderr",
     "output_type": "stream",
     "text": [
      "[Stage 3:======================================================>(102 + 1) / 103]\r"
     ]
    },
    {
     "name": "stdout",
     "output_type": "stream",
     "text": [
      "+----------+---------+\n",
      "|   user_id|    count|\n",
      "+----------+---------+\n",
      "|      null|722880472|\n",
      "| 609517172|  8958426|\n",
      "| 210944655|  1869373|\n",
      "|1463217879|  1515729|\n",
      "| 162726413|  1404807|\n",
      "|1142750381|  1255247|\n",
      "|1990154044|  1219569|\n",
      "|1923112992|   980468|\n",
      "|1094946493|   929955|\n",
      "|1423105784|   899219|\n",
      "| 908327188|   760073|\n",
      "| 515681181|   669167|\n",
      "|1194029880|   619060|\n",
      "|1089912432|   613754|\n",
      "| 605308260|   564479|\n",
      "|1895870896|   532675|\n",
      "| 890952089|   527978|\n",
      "| 730507113|   499781|\n",
      "| 889839684|   498836|\n",
      "|1056409347|   468181|\n",
      "+----------+---------+\n",
      "only showing top 20 rows\n",
      "\n"
     ]
    },
    {
     "name": "stderr",
     "output_type": "stream",
     "text": [
      "                                                                                \r"
     ]
    }
   ],
   "source": [
    "df_user_message = df.groupBy(\"user_id\").count()\n",
    "\n",
    "print(\"Most active users:\")\n",
    "df_user_message.orderBy(\"count\",ascending=False).show()"
   ]
  },
  {
   "cell_type": "code",
   "execution_count": null,
   "id": "bc4ceffd-3998-4cf5-bbaa-b8f032e4872c",
   "metadata": {},
   "outputs": [],
   "source": []
  },
  {
   "cell_type": "code",
   "execution_count": 10,
   "id": "8c9715ee-ebae-435b-acf1-e642f61d20ff",
   "metadata": {},
   "outputs": [
    {
     "name": "stderr",
     "output_type": "stream",
     "text": [
      "                                                                                \r"
     ]
    }
   ],
   "source": [
    "pd_df = df_user_message.toPandas()\n",
    "pd_df.to_csv(\"User_message_counts.csv\")"
   ]
  },
  {
   "cell_type": "code",
   "execution_count": 12,
   "id": "e0cd599c-2f99-488c-9e74-fc5453c670eb",
   "metadata": {},
   "outputs": [
    {
     "name": "stderr",
     "output_type": "stream",
     "text": [
      "[Stage 21:>                                                         (0 + 1) / 1]\r"
     ]
    },
    {
     "name": "stdout",
     "output_type": "stream",
     "text": [
      "+------------------+------+\n",
      "|        group_name| count|\n",
      "+------------------+------+\n",
      "|channel_1996582667|  5994|\n",
      "|channel_1947932949|355534|\n",
      "|channel_1770408140|  2304|\n",
      "|channel_1543131980|  5028|\n",
      "|channel_1441780077| 14365|\n",
      "|channel_1381960982|  6250|\n",
      "|channel_1678354592|   432|\n",
      "|channel_2049018613| 18084|\n",
      "|channel_2072741004|    46|\n",
      "|channel_2072990255|  4744|\n",
      "|channel_1554138363|   635|\n",
      "|channel_1379968896|  2259|\n",
      "|channel_1429136166|   662|\n",
      "|channel_1662612309|   652|\n",
      "|channel_2119657720|160876|\n",
      "|channel_1658542133|  1150|\n",
      "|channel_1654014630|    93|\n",
      "|channel_2217231959|   534|\n",
      "|channel_1892885391|   123|\n",
      "|channel_2241591968|  2398|\n",
      "+------------------+------+\n",
      "only showing top 20 rows\n",
      "\n"
     ]
    },
    {
     "name": "stderr",
     "output_type": "stream",
     "text": [
      "                                                                                \r"
     ]
    }
   ],
   "source": [
    "df.select(\"group_name\").filter(df.user_id.isin(\"609517172\")).groupBy(\"group_name\").count().show()"
   ]
  },
  {
   "cell_type": "code",
   "execution_count": 23,
   "id": "8501cff0-3a74-456b-ba1f-a848ad31b50c",
   "metadata": {},
   "outputs": [
    {
     "name": "stdout",
     "output_type": "stream",
     "text": [
      "How many groups each user was activy:\n"
     ]
    }
   ],
   "source": [
    "df.select(\"user_id\",\"id\",\"text\",\"group_name\").createOrReplaceTempView('view_users')\n",
    "print(\"How many groups each user was activy:\")\n",
    "user_group_counts_df = spark.sql(\"SELECT user_id,COUNT(DISTINCT group_name) as group_count FROM view_users GROUP BY user_id ORDER BY group_count DESC\")"
   ]
  },
  {
   "cell_type": "code",
   "execution_count": 25,
   "id": "a07d4b8b-0859-4f7e-8926-48f564d07347",
   "metadata": {},
   "outputs": [
    {
     "name": "stderr",
     "output_type": "stream",
     "text": [
      "                                                                                \r"
     ]
    }
   ],
   "source": [
    "pd_df = user_group_counts_df.toPandas()\n",
    "pd_df.to_csv(\"User_group_counts.csv\")"
   ]
  },
  {
   "cell_type": "code",
   "execution_count": 5,
   "id": "979e0a93-1c2f-4a12-a449-72939007e4dc",
   "metadata": {},
   "outputs": [
    {
     "name": "stderr",
     "output_type": "stream",
     "text": [
      "[Stage 6:======================================================>(102 + 1) / 103]\r"
     ]
    },
    {
     "name": "stdout",
     "output_type": "stream",
     "text": [
      "+------------------------------+-----------------------------+---------------------------------+-------------------------+\n",
      "|media_de_mensagens_por_usuario|total_de_mensagens_no_dataset|maximo_de_mensagens_de_um_usuario|numero_de_usuarios_unicos|\n",
      "+------------------------------+-----------------------------+---------------------------------+-------------------------+\n",
      "|             276.8139358443536|                    948626687|                        722880472|                  3426946|\n",
      "+------------------------------+-----------------------------+---------------------------------+-------------------------+\n",
      "\n"
     ]
    },
    {
     "name": "stderr",
     "output_type": "stream",
     "text": [
      "                                                                                \r"
     ]
    }
   ],
   "source": [
    "from pyspark.sql.functions import avg, sum, count, max\n",
    "\n",
    "resumo_completo = df_user_message.agg(\n",
    "    avg(\"count\").alias(\"media_de_mensagens_por_usuario\"),\n",
    "    sum(\"count\").alias(\"total_de_mensagens_no_dataset\"),\n",
    "    max(\"count\").alias(\"maximo_de_mensagens_de_um_usuario\"),\n",
    "    count(\"user_id\").alias(\"numero_de_usuarios_unicos\")\n",
    ")\n",
    "\n",
    "resumo_completo.show()"
   ]
  },
  {
   "cell_type": "markdown",
   "id": "93188b29-b0c5-43cc-a915-53c50e65e08d",
   "metadata": {},
   "source": [
    "## 3. Message Analysis"
   ]
  },
  {
   "cell_type": "code",
   "execution_count": 7,
   "id": "514d5f40-fa0f-4280-8f0d-ec6fa0b81425",
   "metadata": {},
   "outputs": [
    {
     "name": "stderr",
     "output_type": "stream",
     "text": [
      "[Stage 3:>                                                          (0 + 1) / 1]\r"
     ]
    },
    {
     "name": "stdout",
     "output_type": "stream",
     "text": [
      "Average text size: 364.06184273325357\n"
     ]
    },
    {
     "name": "stderr",
     "output_type": "stream",
     "text": [
      "                                                                                \r"
     ]
    }
   ],
   "source": [
    "df.select(\"user_id\",\"id\",\"text\",\"group_name\").createOrReplaceTempView('view_users')\n",
    "mean_text_df = spark.sql(\"SELECT avg(LENGTH(text)) AS mean_text_length FROM view_users\")\n",
    "mean_text = mean_text_df.first()[\"mean_text_length\"]\n",
    "print(f\"Average text size: {mean_text}\")"
   ]
  },
  {
   "cell_type": "code",
   "execution_count": 8,
   "id": "0eb453be-71bb-45a2-8666-4b2a06b061fb",
   "metadata": {},
   "outputs": [
    {
     "name": "stderr",
     "output_type": "stream",
     "text": [
      "[Stage 6:>                                                          (0 + 1) / 1]\r"
     ]
    },
    {
     "name": "stdout",
     "output_type": "stream",
     "text": [
      "average number of words in texts: 45.755666707768384\n"
     ]
    },
    {
     "name": "stderr",
     "output_type": "stream",
     "text": [
      "                                                                                \r"
     ]
    }
   ],
   "source": [
    "df.select(\"user_id\",\"id\",\"text\",\"group_name\").createOrReplaceTempView('view_users')\n",
    "mean_text_df = spark.sql(\"SELECT AVG(SIZE(SPLIT(text, ' '))) AS mean_text_length FROM view_users\")\n",
    "mean_text = mean_text_df.first()[\"mean_text_length\"]\n",
    "print(f\"average number of words in texts: {mean_text}\")"
   ]
  },
  {
   "cell_type": "markdown",
   "id": "8aae0fa6-8355-4a64-b0d5-2b0ffbcd3376",
   "metadata": {},
   "source": [
    "## 4. Timestamp Analysis"
   ]
  },
  {
   "cell_type": "code",
   "execution_count": 17,
   "id": "394976cb-25f8-409f-809d-a2589eae058b",
   "metadata": {},
   "outputs": [
    {
     "name": "stderr",
     "output_type": "stream",
     "text": [
      "[Stage 24:================================================>         (5 + 1) / 6]\r"
     ]
    },
    {
     "name": "stdout",
     "output_type": "stream",
     "text": [
      "+-------+--------------+\n",
      "|  month|count_messages|\n",
      "+-------+--------------+\n",
      "|2024-11|     129623554|\n",
      "|2024-10|     112609494|\n",
      "|2024-09|      86095652|\n",
      "|2024-08|      85918163|\n",
      "|2024-07|      74096066|\n",
      "|2024-06|      72367023|\n",
      "|2024-05|      65398887|\n",
      "|2024-04|      60148410|\n",
      "|2024-03|      56463309|\n",
      "|2024-12|      44747806|\n",
      "|2024-01|      43551871|\n",
      "|2024-02|      43014646|\n",
      "+-------+--------------+\n",
      "\n"
     ]
    },
    {
     "name": "stderr",
     "output_type": "stream",
     "text": [
      "                                                                                \r"
     ]
    }
   ],
   "source": [
    "df.select(\"user_id\",\"id\",\"text\",\"group_name\",\"timestamp\").createOrReplaceTempView('view_timestamp')\n",
    "\n",
    "messages_per_month = spark.sql(\"\"\"\n",
    "    SELECT \n",
    "        DATE_FORMAT(FROM_UNIXTIME(timestamp), 'yyyy-MM') AS month,\n",
    "        COUNT(*) AS count_messages\n",
    "    FROM view_timestamp\n",
    "    GROUP BY DATE_FORMAT(FROM_UNIXTIME(timestamp), 'yyyy-MM')\n",
    "    ORDER BY count_messages DESC\n",
    "\"\"\")\n",
    "\n",
    "messages_per_month.show()"
   ]
  },
  {
   "cell_type": "code",
   "execution_count": null,
   "id": "79099ad2-c9a1-419d-9ad8-78aaf434a3e1",
   "metadata": {},
   "outputs": [],
   "source": []
  }
 ],
 "metadata": {
  "kernelspec": {
   "display_name": "PySpark (Kubernetes)",
   "language": "python",
   "name": "kernel"
  },
  "language_info": {
   "codemirror_mode": {
    "name": "ipython",
    "version": 3
   },
   "file_extension": ".py",
   "mimetype": "text/x-python",
   "name": "python",
   "nbconvert_exporter": "python",
   "pygments_lexer": "ipython3",
   "version": "3.9.13"
  }
 },
 "nbformat": 4,
 "nbformat_minor": 5
}
